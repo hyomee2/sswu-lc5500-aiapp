{
  "nbformat": 4,
  "nbformat_minor": 0,
  "metadata": {
    "colab": {
      "provenance": [],
      "gpuType": "L4",
      "machine_shape": "hm",
      "include_colab_link": true
    },
    "kernelspec": {
      "name": "python3",
      "display_name": "Python 3"
    },
    "language_info": {
      "name": "python"
    },
    "accelerator": "GPU",
    "widgets": {
      "application/vnd.jupyter.widget-state+json": {
        "9f849de5cd8744f1b933918ca009cef9": {
          "model_module": "@jupyter-widgets/controls",
          "model_name": "HBoxModel",
          "model_module_version": "1.5.0",
          "state": {
            "_dom_classes": [],
            "_model_module": "@jupyter-widgets/controls",
            "_model_module_version": "1.5.0",
            "_model_name": "HBoxModel",
            "_view_count": null,
            "_view_module": "@jupyter-widgets/controls",
            "_view_module_version": "1.5.0",
            "_view_name": "HBoxView",
            "box_style": "",
            "children": [
              "IPY_MODEL_835f881f4777418f97d73f8660c5c47b",
              "IPY_MODEL_3e3fc331b6fc4022ab956da4d927ab8b",
              "IPY_MODEL_7e4c0147b6734c1e8263b3b22f0fe5fc"
            ],
            "layout": "IPY_MODEL_279e384638694905b983bc087fcbb0c2"
          }
        },
        "835f881f4777418f97d73f8660c5c47b": {
          "model_module": "@jupyter-widgets/controls",
          "model_name": "HTMLModel",
          "model_module_version": "1.5.0",
          "state": {
            "_dom_classes": [],
            "_model_module": "@jupyter-widgets/controls",
            "_model_module_version": "1.5.0",
            "_model_name": "HTMLModel",
            "_view_count": null,
            "_view_module": "@jupyter-widgets/controls",
            "_view_module_version": "1.5.0",
            "_view_name": "HTMLView",
            "description": "",
            "description_tooltip": null,
            "layout": "IPY_MODEL_aa73d89de6974a158e9d213198e6a63d",
            "placeholder": "​",
            "style": "IPY_MODEL_5a2430fe5f974b38bcf9579357252142",
            "value": "Loading checkpoint shards:   0%"
          }
        },
        "3e3fc331b6fc4022ab956da4d927ab8b": {
          "model_module": "@jupyter-widgets/controls",
          "model_name": "FloatProgressModel",
          "model_module_version": "1.5.0",
          "state": {
            "_dom_classes": [],
            "_model_module": "@jupyter-widgets/controls",
            "_model_module_version": "1.5.0",
            "_model_name": "FloatProgressModel",
            "_view_count": null,
            "_view_module": "@jupyter-widgets/controls",
            "_view_module_version": "1.5.0",
            "_view_name": "ProgressView",
            "bar_style": "danger",
            "description": "",
            "description_tooltip": null,
            "layout": "IPY_MODEL_a450cf91a5f74599a7974a9e10c7dc58",
            "max": 6,
            "min": 0,
            "orientation": "horizontal",
            "style": "IPY_MODEL_1364aa6953b84e86bd985a29f9dffc36",
            "value": 0
          }
        },
        "7e4c0147b6734c1e8263b3b22f0fe5fc": {
          "model_module": "@jupyter-widgets/controls",
          "model_name": "HTMLModel",
          "model_module_version": "1.5.0",
          "state": {
            "_dom_classes": [],
            "_model_module": "@jupyter-widgets/controls",
            "_model_module_version": "1.5.0",
            "_model_name": "HTMLModel",
            "_view_count": null,
            "_view_module": "@jupyter-widgets/controls",
            "_view_module_version": "1.5.0",
            "_view_name": "HTMLView",
            "description": "",
            "description_tooltip": null,
            "layout": "IPY_MODEL_936c71278ba84567b6f76ea1981fb647",
            "placeholder": "​",
            "style": "IPY_MODEL_f586524a71c143578fcd57c7847d16de",
            "value": " 0/6 [00:13&lt;?, ?it/s]"
          }
        },
        "279e384638694905b983bc087fcbb0c2": {
          "model_module": "@jupyter-widgets/base",
          "model_name": "LayoutModel",
          "model_module_version": "1.2.0",
          "state": {
            "_model_module": "@jupyter-widgets/base",
            "_model_module_version": "1.2.0",
            "_model_name": "LayoutModel",
            "_view_count": null,
            "_view_module": "@jupyter-widgets/base",
            "_view_module_version": "1.2.0",
            "_view_name": "LayoutView",
            "align_content": null,
            "align_items": null,
            "align_self": null,
            "border": null,
            "bottom": null,
            "display": null,
            "flex": null,
            "flex_flow": null,
            "grid_area": null,
            "grid_auto_columns": null,
            "grid_auto_flow": null,
            "grid_auto_rows": null,
            "grid_column": null,
            "grid_gap": null,
            "grid_row": null,
            "grid_template_areas": null,
            "grid_template_columns": null,
            "grid_template_rows": null,
            "height": null,
            "justify_content": null,
            "justify_items": null,
            "left": null,
            "margin": null,
            "max_height": null,
            "max_width": null,
            "min_height": null,
            "min_width": null,
            "object_fit": null,
            "object_position": null,
            "order": null,
            "overflow": null,
            "overflow_x": null,
            "overflow_y": null,
            "padding": null,
            "right": null,
            "top": null,
            "visibility": null,
            "width": null
          }
        },
        "aa73d89de6974a158e9d213198e6a63d": {
          "model_module": "@jupyter-widgets/base",
          "model_name": "LayoutModel",
          "model_module_version": "1.2.0",
          "state": {
            "_model_module": "@jupyter-widgets/base",
            "_model_module_version": "1.2.0",
            "_model_name": "LayoutModel",
            "_view_count": null,
            "_view_module": "@jupyter-widgets/base",
            "_view_module_version": "1.2.0",
            "_view_name": "LayoutView",
            "align_content": null,
            "align_items": null,
            "align_self": null,
            "border": null,
            "bottom": null,
            "display": null,
            "flex": null,
            "flex_flow": null,
            "grid_area": null,
            "grid_auto_columns": null,
            "grid_auto_flow": null,
            "grid_auto_rows": null,
            "grid_column": null,
            "grid_gap": null,
            "grid_row": null,
            "grid_template_areas": null,
            "grid_template_columns": null,
            "grid_template_rows": null,
            "height": null,
            "justify_content": null,
            "justify_items": null,
            "left": null,
            "margin": null,
            "max_height": null,
            "max_width": null,
            "min_height": null,
            "min_width": null,
            "object_fit": null,
            "object_position": null,
            "order": null,
            "overflow": null,
            "overflow_x": null,
            "overflow_y": null,
            "padding": null,
            "right": null,
            "top": null,
            "visibility": null,
            "width": null
          }
        },
        "5a2430fe5f974b38bcf9579357252142": {
          "model_module": "@jupyter-widgets/controls",
          "model_name": "DescriptionStyleModel",
          "model_module_version": "1.5.0",
          "state": {
            "_model_module": "@jupyter-widgets/controls",
            "_model_module_version": "1.5.0",
            "_model_name": "DescriptionStyleModel",
            "_view_count": null,
            "_view_module": "@jupyter-widgets/base",
            "_view_module_version": "1.2.0",
            "_view_name": "StyleView",
            "description_width": ""
          }
        },
        "a450cf91a5f74599a7974a9e10c7dc58": {
          "model_module": "@jupyter-widgets/base",
          "model_name": "LayoutModel",
          "model_module_version": "1.2.0",
          "state": {
            "_model_module": "@jupyter-widgets/base",
            "_model_module_version": "1.2.0",
            "_model_name": "LayoutModel",
            "_view_count": null,
            "_view_module": "@jupyter-widgets/base",
            "_view_module_version": "1.2.0",
            "_view_name": "LayoutView",
            "align_content": null,
            "align_items": null,
            "align_self": null,
            "border": null,
            "bottom": null,
            "display": null,
            "flex": null,
            "flex_flow": null,
            "grid_area": null,
            "grid_auto_columns": null,
            "grid_auto_flow": null,
            "grid_auto_rows": null,
            "grid_column": null,
            "grid_gap": null,
            "grid_row": null,
            "grid_template_areas": null,
            "grid_template_columns": null,
            "grid_template_rows": null,
            "height": null,
            "justify_content": null,
            "justify_items": null,
            "left": null,
            "margin": null,
            "max_height": null,
            "max_width": null,
            "min_height": null,
            "min_width": null,
            "object_fit": null,
            "object_position": null,
            "order": null,
            "overflow": null,
            "overflow_x": null,
            "overflow_y": null,
            "padding": null,
            "right": null,
            "top": null,
            "visibility": null,
            "width": null
          }
        },
        "1364aa6953b84e86bd985a29f9dffc36": {
          "model_module": "@jupyter-widgets/controls",
          "model_name": "ProgressStyleModel",
          "model_module_version": "1.5.0",
          "state": {
            "_model_module": "@jupyter-widgets/controls",
            "_model_module_version": "1.5.0",
            "_model_name": "ProgressStyleModel",
            "_view_count": null,
            "_view_module": "@jupyter-widgets/base",
            "_view_module_version": "1.2.0",
            "_view_name": "StyleView",
            "bar_color": null,
            "description_width": ""
          }
        },
        "936c71278ba84567b6f76ea1981fb647": {
          "model_module": "@jupyter-widgets/base",
          "model_name": "LayoutModel",
          "model_module_version": "1.2.0",
          "state": {
            "_model_module": "@jupyter-widgets/base",
            "_model_module_version": "1.2.0",
            "_model_name": "LayoutModel",
            "_view_count": null,
            "_view_module": "@jupyter-widgets/base",
            "_view_module_version": "1.2.0",
            "_view_name": "LayoutView",
            "align_content": null,
            "align_items": null,
            "align_self": null,
            "border": null,
            "bottom": null,
            "display": null,
            "flex": null,
            "flex_flow": null,
            "grid_area": null,
            "grid_auto_columns": null,
            "grid_auto_flow": null,
            "grid_auto_rows": null,
            "grid_column": null,
            "grid_gap": null,
            "grid_row": null,
            "grid_template_areas": null,
            "grid_template_columns": null,
            "grid_template_rows": null,
            "height": null,
            "justify_content": null,
            "justify_items": null,
            "left": null,
            "margin": null,
            "max_height": null,
            "max_width": null,
            "min_height": null,
            "min_width": null,
            "object_fit": null,
            "object_position": null,
            "order": null,
            "overflow": null,
            "overflow_x": null,
            "overflow_y": null,
            "padding": null,
            "right": null,
            "top": null,
            "visibility": null,
            "width": null
          }
        },
        "f586524a71c143578fcd57c7847d16de": {
          "model_module": "@jupyter-widgets/controls",
          "model_name": "DescriptionStyleModel",
          "model_module_version": "1.5.0",
          "state": {
            "_model_module": "@jupyter-widgets/controls",
            "_model_module_version": "1.5.0",
            "_model_name": "DescriptionStyleModel",
            "_view_count": null,
            "_view_module": "@jupyter-widgets/base",
            "_view_module_version": "1.2.0",
            "_view_name": "StyleView",
            "description_width": ""
          }
        }
      }
    }
  },
  "cells": [
    {
      "cell_type": "markdown",
      "metadata": {
        "id": "view-in-github",
        "colab_type": "text"
      },
      "source": [
        "<a href=\"https://colab.research.google.com/github/hyomee2/sswu-lc5500-aiapp/blob/main/Llama/models/llama_final.ipynb\" target=\"_parent\"><img src=\"https://colab.research.google.com/assets/colab-badge.svg\" alt=\"Open In Colab\"/></a>"
      ]
    },
    {
      "cell_type": "code",
      "execution_count": null,
      "metadata": {
        "id": "qgpavbRjWifl",
        "colab": {
          "base_uri": "https://localhost:8080/"
        },
        "outputId": "114b70ef-fae4-4283-be44-583fae9d93d3"
      },
      "outputs": [
        {
          "output_type": "stream",
          "name": "stdout",
          "text": [
            "Drive already mounted at /content/gdrive; to attempt to forcibly remount, call drive.mount(\"/content/gdrive\", force_remount=True).\n"
          ]
        }
      ],
      "source": [
        "from google.colab import drive\n",
        "drive.mount('/content/gdrive')"
      ]
    },
    {
      "cell_type": "markdown",
      "source": [
        "## 1. github 클론"
      ],
      "metadata": {
        "id": "OLyNMt0Xrx5e"
      }
    },
    {
      "cell_type": "code",
      "source": [
        "! git clone https://github.com/hyomee2/sswu-lc5500-aiapp.git"
      ],
      "metadata": {
        "id": "KPYjcpeFW7aV"
      },
      "execution_count": null,
      "outputs": []
    },
    {
      "cell_type": "code",
      "source": [
        "!cd sswu-lc5500-aiapp"
      ],
      "metadata": {
        "id": "5GdIA5_uEEha"
      },
      "execution_count": null,
      "outputs": []
    },
    {
      "cell_type": "code",
      "source": [
        "import pandas as pd\n",
        "from datasets import Dataset\n",
        "import json\n",
        "from transformers import AutoModelForCausalLM, AutoTokenizer\n",
        "import torch"
      ],
      "metadata": {
        "id": "2d1Z1MsODktO"
      },
      "execution_count": null,
      "outputs": []
    },
    {
      "cell_type": "markdown",
      "source": [
        "## 2. 데이터셋 불러와서 훈련 포맷으로 맞추기"
      ],
      "metadata": {
        "id": "MRWaGxMBrwHH"
      }
    },
    {
      "cell_type": "code",
      "source": [
        "df = pd.read_csv(\"/content/sswu-lc5500-aiapp/Llama/dataset/Llama_data.csv\").dropna(subset=[\"Q\", \" A\"]) # 결측치 제외 후 불러오기\n",
        "\n",
        "# JSON 리스트 만들기\n",
        "records = []\n",
        "for _, row in df.iterrows():\n",
        "    records.append({\n",
        "        \"instruction\": row[\"Q\"].strip(), # 질문 앞뒤 공백 제거\n",
        "        \"input\": \"\", # input은 비움\n",
        "        \"output\": str(row[\" A\"]).strip() # A 앞에 들어있는 공백 제거\n",
        "    })\n",
        "\n",
        "# JSON 저장\n",
        "with open(\"/content/gdrive/MyDrive/aiapplication/train_data.json\", \"w\", encoding=\"utf-8\") as f:\n",
        "    json.dump(records, f, ensure_ascii=False, indent=2)"
      ],
      "metadata": {
        "id": "JJg-D6MjnEor"
      },
      "execution_count": null,
      "outputs": []
    },
    {
      "cell_type": "markdown",
      "source": [
        "## 3. Huggingface 데이터셋으로 변환 및 로딩"
      ],
      "metadata": {
        "id": "_6mqWuXksZhZ"
      }
    },
    {
      "cell_type": "code",
      "source": [
        "# JSON을 pandas로 읽기\n",
        "df = pd.read_json(\"/content/gdrive/MyDrive/aiapplication/train_data.json\")\n",
        "\n",
        "# Hugging Face Dataset으로 변환\n",
        "dataset = Dataset.from_pandas(df)\n",
        "\n",
        "# train/validation 90:10으로 나누기\n",
        "split_dataset = dataset.train_test_split(test_size=0.1)\n",
        "\n",
        "train_dataset = split_dataset[\"train\"]\n",
        "val_dataset = split_dataset[\"test\"]"
      ],
      "metadata": {
        "id": "bLJBhv_wtrmH"
      },
      "execution_count": null,
      "outputs": []
    },
    {
      "cell_type": "markdown",
      "source": [
        "## 4. HuggingFace 모델 불러오기"
      ],
      "metadata": {
        "id": "Z9TFQwN4t65Q"
      }
    },
    {
      "cell_type": "code",
      "source": [
        "!pip install transformers accelerate peft bitsandbytes datasets"
      ],
      "metadata": {
        "id": "aL3XOm32tVSw"
      },
      "execution_count": null,
      "outputs": []
    },
    {
      "cell_type": "markdown",
      "source": [],
      "metadata": {
        "id": "D0gtW0Fkgq-O"
      }
    },
    {
      "cell_type": "code",
      "source": [
        "from huggingface_hub import login\n",
        "from google.colab import userdata\n",
        "\n",
        "hugging_face_token = userdata.get(\"HUGGING_FACE_TOKEN\")\n",
        "login(hugging_face_token)"
      ],
      "metadata": {
        "id": "4ibG0lZwwEuz"
      },
      "execution_count": null,
      "outputs": []
    },
    {
      "cell_type": "code",
      "source": [
        "from transformers import AutoModelForCausalLM, AutoTokenizer\n",
        "import torch\n",
        "\n",
        "base_model_name = \"beomi/Llama-3-Open-Ko-8B\"\n",
        "tokenizer = AutoTokenizer.from_pretrained(base_model_name)\n",
        "tokenizer.pad_token = tokenizer.eos_token  # pad_token 설정\n",
        "tokenizer.padding_side = \"left\" # Llama는 autoregressive 모델이어서 오른쪽부터 단어를 예측하므로, 왼쪽 padding이 자연스럽다.\n",
        "\n",
        "model = AutoModelForCausalLM.from_pretrained(\n",
        "    base_model_name,\n",
        "    load_in_8bit=True, # LoRA를 위해 8bit 로딩\n",
        "    device_map=\"auto\"\n",
        ")"
      ],
      "metadata": {
        "id": "VKBhcMXbruvW"
      },
      "execution_count": null,
      "outputs": []
    },
    {
      "cell_type": "code",
      "source": [
        "from peft import prepare_model_for_kbit_training, LoraConfig, get_peft_model\n",
        "\n",
        "# LoRA를 위한 준비\n",
        "model = prepare_model_for_kbit_training(model)\n",
        "\n",
        "# LoRA 설정\n",
        "lora_config = LoraConfig(\n",
        "    r=16, # LoRA의 랭크(저차원 행렬의 크기). 보통 4~16 사이로 설정\n",
        "    lora_alpha=32, # LoRA 내 스케일링 팩터. 학습 안정성에 도움\n",
        "    target_modules=[\"q_proj\", \"v_proj\"],  # LoRA가 어떤 신경망 내부 레이어(모듈)에만 적용될지 지정\n",
        "    lora_dropout=0.05, # 과적합 방지를 위해 LoRA 적용 시 드롭아웃 확률\n",
        "    bias=\"none\", # bias 파라미터 업데이트 여부(none, all, lora 등)\n",
        "    task_type=\"CAUSAL_LM\" # 작업 유형 지정. 여기서는 언어 생성용 인과적 언어모델\n",
        ")\n",
        "\n",
        "model = get_peft_model(model, lora_config)\n"
      ],
      "metadata": {
        "id": "gQKOyeoxuNXw"
      },
      "execution_count": null,
      "outputs": []
    },
    {
      "cell_type": "markdown",
      "source": [
        "*** target_modules=[\"q_proj\", \"v_proj\"]**\n",
        "\n",
        "**Q, K, V란?**\n",
        "\n",
        "Transformer 모델의 핵심인 어텐션(attention) 계산에서\n",
        "Q: Query (질문)\n",
        "K: Key (키)\n",
        "V: Value (값)\n",
        "\n",
        "이 세 개 행렬(벡터)을 만들어서 어텐션 점수를 계산.\n",
        "\n",
        "\n",
        "**\"q_proj\", \"v_proj\"는 무엇인가?**\n",
        "\n",
        "Transformer 구현체마다 다르지만, 보통 Q, K, V를 만들 때\n",
        "q_proj, k_proj, v_proj라는 이름으로 각각의 선형 변환(Linear layer, 즉 행렬곱)을 만든다.\n",
        "\n",
        "e.g.,\n",
        "``` python\n",
        "self.q_proj = nn.Linear(hidden_dim, hidden_dim)\n",
        "self.k_proj = nn.Linear(hidden_dim, hidden_dim)\n",
        "self.v_proj = nn.Linear(hidden_dim, hidden_dim)\n",
        "```\n",
        "\n",
        "\n",
        "**그럼 target_modules=[\"q_proj\", \"v_proj\"]는?**\n",
        "\n",
        "LoRA를 Q 프로젝션 레이어와 V 프로젝션 레이어에만 적용하겠다는 의미. 즉, Q와 V를 만드는 선형 변환에 LoRA 어댑터가 붙어서 학습된다. K는 빼고 Q, V에만 적용하는 건 실험적으로 성능이나 효율이 좋다고 알려진 경우가 많다. Q는 모델이 \"무엇을 집중할지\"를 결정하는 쿼리 정보고, V는 실제로 어텐션에서 참고하는 값이라, 이 두 부분을 조정하는 것이 모델 미세조정에 효과적일 때가 많다. K는 상대적으로 업데이트 효과가 적거나 중복될 수 있어서 제외하기도 한다.\n",
        "\n",
        "\n",
        "\n"
      ],
      "metadata": {
        "id": "HH96rI3l0HxA"
      }
    },
    {
      "cell_type": "markdown",
      "source": [
        "## 5. 텍스트를 LLM 학습 포맷으로 변환"
      ],
      "metadata": {
        "id": "7xQ3DEMn8P7H"
      }
    },
    {
      "cell_type": "code",
      "source": [
        "# Prompt 템플릿 함수\n",
        "def format_prompt(example):\n",
        "    return f\"\"\"### 질문:\\n{example['instruction']}\\n\\n### 답변:\\n{example['output']}\"\"\""
      ],
      "metadata": {
        "id": "dKmLzP-F5nFX"
      },
      "execution_count": null,
      "outputs": []
    },
    {
      "cell_type": "markdown",
      "source": [
        "**format_prompt(example)**\n",
        "\n",
        "데이터를 LLM에 학습시키기 좋은 문자열 형태(Prompt)로 만들어준다.\n",
        "\n",
        "e.g.,\n",
        "\n",
        "```\n",
        "### 질문:\n",
        "\n",
        "12시 땡이다!\n",
        "\n",
        "### 답변:\n",
        "\n",
        "하루 또 가뿌네.\n",
        "```"
      ],
      "metadata": {
        "id": "B7udCq3P9o91"
      }
    },
    {
      "cell_type": "code",
      "source": [
        "# 토크나이징\n",
        "def tokenize(example):\n",
        "    prompt = format_prompt(example)\n",
        "    return tokenizer(prompt, padding=True, truncation=True, max_length=512)\n",
        "\n",
        "tokenized_train = train_dataset.map(tokenize, remove_columns=train_dataset.column_names)\n",
        "tokenized_val = val_dataset.map(tokenize, remove_columns=val_dataset.column_names)"
      ],
      "metadata": {
        "id": "VxBs2pHz-KJw"
      },
      "execution_count": null,
      "outputs": []
    },
    {
      "cell_type": "markdown",
      "source": [
        "**tokenize()**\n",
        "\n",
        "위에서 만든 문자열 prompt을 모델 학습용 숫자 토큰들로 변환한다.\n",
        "\n",
        "padding=\"max_length\": 길이가 512보다 짧으면 빈 자리를 채운다.\n",
        "\n",
        "truncation=True: 너무 길면 512까지만 자름\n",
        "\n",
        "결과는 다음과 같은 dict 형태\n",
        "\n",
        "e.g.,\n",
        "```python\n",
        "{\n",
        "  'input_ids': [...숫자들...],\n",
        "  'attention_mask': [...1, 1, 1, 0, 0, 0...]  # pad된 부분은 0\n",
        "}\n",
        "```\n",
        "\n",
        "\n"
      ],
      "metadata": {
        "id": "aNSjE332-NM6"
      }
    },
    {
      "cell_type": "markdown",
      "source": [
        "## 6. 모델 학습을 위한 collator(데이터 배치 준비 도우미) 준비"
      ],
      "metadata": {
        "id": "bIHgogDz_bwq"
      }
    },
    {
      "cell_type": "code",
      "source": [
        "from transformers import DataCollatorForLanguageModeling\n",
        "\n",
        "data_collator = DataCollatorForLanguageModeling(tokenizer=tokenizer, mlm=False)\n",
        "# min=False -> GPT,LLAMA 같은 casual language model 학습에 적합"
      ],
      "metadata": {
        "id": "FsdKqfro_isP"
      },
      "execution_count": null,
      "outputs": []
    },
    {
      "cell_type": "markdown",
      "source": [
        "## 7. Trainer 설정"
      ],
      "metadata": {
        "id": "1zRpLEQqAIua"
      }
    },
    {
      "cell_type": "markdown",
      "source": [
        "**TrainingAruguments**\n",
        "\n",
        ": 모델 학습과 관련된 다양한 하이퍼파라미터와 설정들을 모아놓은 객체. Trainer에게 어떻게 학습할지 알려주는 설정 모음집이라 할 수 있다."
      ],
      "metadata": {
        "id": "8E7NX1AqBE_H"
      }
    },
    {
      "cell_type": "code",
      "source": [
        "from transformers import TrainingArguments, Trainer\n",
        "\n",
        "# Trainer 설정\n",
        "training_args = TrainingArguments(\n",
        "    output_dir=\"/content/gdrive/MyDrive/models/checkpoints\", # 학습 체크포인트(모델 가중치 등)를 저장할 폴더 경로\n",
        "    per_device_train_batch_size=2, # 학습 시 GPU 1대당 사용할 배치 사이즈\n",
        "    per_device_eval_batch_size=4, # 평가 시 GPU 1대당 사용할 배치 사이즈\n",
        "    gradient_accumulation_steps=8,\n",
        "    num_train_epochs=3, # 총 학습 Epoch 수(3번 데이터셋을 반복 학습)\n",
        "    logging_dir=\"./logs\", # 로그(학습 진행상황 등)를 저장할 디렉토리\n",
        "    learning_rate=5e-5,  # 학습률 설정\n",
        "    weight_decay=0.01,  # L2 정규화\n",
        "    lr_scheduler_type=\"linear\",  # 학습률 스케줄러\n",
        "    logging_steps=10, # 몇 스텝마다 로그를 기록할지(여기선 10스텝마다)\n",
        "    save_strategy=\"steps\", # 체크포인트 저장 주기(여기선 step마다 저장)\n",
        "    #evaluation_strategy=\"epoch\", # 평가 주기(여기선 epoch마다 평가)\n",
        "    fp16=True, # 16-bit half precision 사용 여부(속도 향상 및 메모리 절약)\n",
        "    save_steps=50,\n",
        "    save_total_limit=2, # 저장할 체크포인트 최대 개수(초과 시 오래된 것부터 삭제)\n",
        "    report_to=\"wandb\"  # WandB에 결과 보고\n",
        ")\n",
        "\n",
        "trainer = Trainer(\n",
        "    model=model, # 학습할 PyTorch 모델\n",
        "    args=training_args, # TrainingArguments 객체(학습 설정)\n",
        "    train_dataset=tokenized_train, # 학습용 데이터셋\n",
        "    eval_dataset=tokenized_val, # 평가용 데이터셋\n",
        "    tokenizer=tokenizer, # 토크나이저(토큰 ID 변환 및 디코딩 등에 사용)\n",
        "    data_collator=data_collator, # 배치 데이터를 만들 떄 자동으로 padding 등을 처리하는 함수\n",
        ")"
      ],
      "metadata": {
        "id": "4bqmMIPXpF6v"
      },
      "execution_count": null,
      "outputs": []
    },
    {
      "cell_type": "code",
      "source": [
        "import torch\n",
        "\n",
        "# torch.cuda.empty_cache()\n",
        "\n",
        "# 학습 시작\n",
        "# trainer.train(resume_from_checkpoint=True)\n",
        "# wanb.init\n",
        "trainer.train()\n",
        "\n",
        "# 모델 저장\n",
        "model.save_pretrained(\"/content/gdrive/finetuned-kollama-dialect\")\n",
        "tokenizer.save_pretrained(\"/content/gdrive/finetuned-kollama-dialect\")"
      ],
      "metadata": {
        "id": "r09eHRnAAYgY"
      },
      "execution_count": null,
      "outputs": []
    },
    {
      "cell_type": "code",
      "source": [
        "from transformers import AutoModelForCausalLM, AutoTokenizer\n",
        "\n",
        "model_path = \"/content/gdrive/MyDrive/finetuned_kollama_dialect\"\n",
        "\n",
        "tokenizer = AutoTokenizer.from_pretrained(model_path)\n",
        "model = AutoModelForCausalLM.from_pretrained(model_path)\n",
        "model.eval()  # 평가 모드로 전환 (추론할 때)\n"
      ],
      "metadata": {
        "id": "y2DYGW1jE6wI",
        "colab": {
          "base_uri": "https://localhost:8080/",
          "height": 405,
          "referenced_widgets": [
            "9f849de5cd8744f1b933918ca009cef9",
            "835f881f4777418f97d73f8660c5c47b",
            "3e3fc331b6fc4022ab956da4d927ab8b",
            "7e4c0147b6734c1e8263b3b22f0fe5fc",
            "279e384638694905b983bc087fcbb0c2",
            "aa73d89de6974a158e9d213198e6a63d",
            "5a2430fe5f974b38bcf9579357252142",
            "a450cf91a5f74599a7974a9e10c7dc58",
            "1364aa6953b84e86bd985a29f9dffc36",
            "936c71278ba84567b6f76ea1981fb647",
            "f586524a71c143578fcd57c7847d16de"
          ]
        },
        "outputId": "64bf3843-038d-495c-d741-f92e65c06cca"
      },
      "execution_count": null,
      "outputs": [
        {
          "output_type": "display_data",
          "data": {
            "text/plain": [
              "Loading checkpoint shards:   0%|          | 0/6 [00:00<?, ?it/s]"
            ],
            "application/vnd.jupyter.widget-view+json": {
              "version_major": 2,
              "version_minor": 0,
              "model_id": "9f849de5cd8744f1b933918ca009cef9"
            }
          },
          "metadata": {}
        },
        {
          "output_type": "error",
          "ename": "KeyboardInterrupt",
          "evalue": "",
          "traceback": [
            "\u001b[0;31m---------------------------------------------------------------------------\u001b[0m",
            "\u001b[0;31mKeyboardInterrupt\u001b[0m                         Traceback (most recent call last)",
            "\u001b[0;32m<ipython-input-23-21b6fbe99798>\u001b[0m in \u001b[0;36m<cell line: 0>\u001b[0;34m()\u001b[0m\n\u001b[1;32m      4\u001b[0m \u001b[0;34m\u001b[0m\u001b[0m\n\u001b[1;32m      5\u001b[0m \u001b[0mtokenizer\u001b[0m \u001b[0;34m=\u001b[0m \u001b[0mAutoTokenizer\u001b[0m\u001b[0;34m.\u001b[0m\u001b[0mfrom_pretrained\u001b[0m\u001b[0;34m(\u001b[0m\u001b[0mmodel_path\u001b[0m\u001b[0;34m)\u001b[0m\u001b[0;34m\u001b[0m\u001b[0;34m\u001b[0m\u001b[0m\n\u001b[0;32m----> 6\u001b[0;31m \u001b[0mmodel\u001b[0m \u001b[0;34m=\u001b[0m \u001b[0mAutoModelForCausalLM\u001b[0m\u001b[0;34m.\u001b[0m\u001b[0mfrom_pretrained\u001b[0m\u001b[0;34m(\u001b[0m\u001b[0mmodel_path\u001b[0m\u001b[0;34m)\u001b[0m\u001b[0;34m\u001b[0m\u001b[0;34m\u001b[0m\u001b[0m\n\u001b[0m\u001b[1;32m      7\u001b[0m \u001b[0mmodel\u001b[0m\u001b[0;34m.\u001b[0m\u001b[0meval\u001b[0m\u001b[0;34m(\u001b[0m\u001b[0;34m)\u001b[0m  \u001b[0;31m# 평가 모드로 전환 (추론할 때)\u001b[0m\u001b[0;34m\u001b[0m\u001b[0;34m\u001b[0m\u001b[0m\n",
            "\u001b[0;32m/usr/local/lib/python3.11/dist-packages/transformers/models/auto/auto_factory.py\u001b[0m in \u001b[0;36mfrom_pretrained\u001b[0;34m(cls, pretrained_model_name_or_path, *model_args, **kwargs)\u001b[0m\n\u001b[1;32m    569\u001b[0m             \u001b[0;32mif\u001b[0m \u001b[0mmodel_class\u001b[0m\u001b[0;34m.\u001b[0m\u001b[0mconfig_class\u001b[0m \u001b[0;34m==\u001b[0m \u001b[0mconfig\u001b[0m\u001b[0;34m.\u001b[0m\u001b[0msub_configs\u001b[0m\u001b[0;34m.\u001b[0m\u001b[0mget\u001b[0m\u001b[0;34m(\u001b[0m\u001b[0;34m\"text_config\"\u001b[0m\u001b[0;34m,\u001b[0m \u001b[0;32mNone\u001b[0m\u001b[0;34m)\u001b[0m\u001b[0;34m:\u001b[0m\u001b[0;34m\u001b[0m\u001b[0;34m\u001b[0m\u001b[0m\n\u001b[1;32m    570\u001b[0m                 \u001b[0mconfig\u001b[0m \u001b[0;34m=\u001b[0m \u001b[0mconfig\u001b[0m\u001b[0;34m.\u001b[0m\u001b[0mget_text_config\u001b[0m\u001b[0;34m(\u001b[0m\u001b[0;34m)\u001b[0m\u001b[0;34m\u001b[0m\u001b[0;34m\u001b[0m\u001b[0m\n\u001b[0;32m--> 571\u001b[0;31m             return model_class.from_pretrained(\n\u001b[0m\u001b[1;32m    572\u001b[0m                 \u001b[0mpretrained_model_name_or_path\u001b[0m\u001b[0;34m,\u001b[0m \u001b[0;34m*\u001b[0m\u001b[0mmodel_args\u001b[0m\u001b[0;34m,\u001b[0m \u001b[0mconfig\u001b[0m\u001b[0;34m=\u001b[0m\u001b[0mconfig\u001b[0m\u001b[0;34m,\u001b[0m \u001b[0;34m**\u001b[0m\u001b[0mhub_kwargs\u001b[0m\u001b[0;34m,\u001b[0m \u001b[0;34m**\u001b[0m\u001b[0mkwargs\u001b[0m\u001b[0;34m\u001b[0m\u001b[0;34m\u001b[0m\u001b[0m\n\u001b[1;32m    573\u001b[0m             )\n",
            "\u001b[0;32m/usr/local/lib/python3.11/dist-packages/transformers/modeling_utils.py\u001b[0m in \u001b[0;36m_wrapper\u001b[0;34m(*args, **kwargs)\u001b[0m\n\u001b[1;32m    307\u001b[0m         \u001b[0mold_dtype\u001b[0m \u001b[0;34m=\u001b[0m \u001b[0mtorch\u001b[0m\u001b[0;34m.\u001b[0m\u001b[0mget_default_dtype\u001b[0m\u001b[0;34m(\u001b[0m\u001b[0;34m)\u001b[0m\u001b[0;34m\u001b[0m\u001b[0;34m\u001b[0m\u001b[0m\n\u001b[1;32m    308\u001b[0m         \u001b[0;32mtry\u001b[0m\u001b[0;34m:\u001b[0m\u001b[0;34m\u001b[0m\u001b[0;34m\u001b[0m\u001b[0m\n\u001b[0;32m--> 309\u001b[0;31m             \u001b[0;32mreturn\u001b[0m \u001b[0mfunc\u001b[0m\u001b[0;34m(\u001b[0m\u001b[0;34m*\u001b[0m\u001b[0margs\u001b[0m\u001b[0;34m,\u001b[0m \u001b[0;34m**\u001b[0m\u001b[0mkwargs\u001b[0m\u001b[0;34m)\u001b[0m\u001b[0;34m\u001b[0m\u001b[0;34m\u001b[0m\u001b[0m\n\u001b[0m\u001b[1;32m    310\u001b[0m         \u001b[0;32mfinally\u001b[0m\u001b[0;34m:\u001b[0m\u001b[0;34m\u001b[0m\u001b[0;34m\u001b[0m\u001b[0m\n\u001b[1;32m    311\u001b[0m             \u001b[0mtorch\u001b[0m\u001b[0;34m.\u001b[0m\u001b[0mset_default_dtype\u001b[0m\u001b[0;34m(\u001b[0m\u001b[0mold_dtype\u001b[0m\u001b[0;34m)\u001b[0m\u001b[0;34m\u001b[0m\u001b[0;34m\u001b[0m\u001b[0m\n",
            "\u001b[0;32m/usr/local/lib/python3.11/dist-packages/transformers/modeling_utils.py\u001b[0m in \u001b[0;36mfrom_pretrained\u001b[0;34m(cls, pretrained_model_name_or_path, config, cache_dir, ignore_mismatched_sizes, force_download, local_files_only, token, revision, use_safetensors, weights_only, *model_args, **kwargs)\u001b[0m\n\u001b[1;32m   4572\u001b[0m                 \u001b[0moffload_index\u001b[0m\u001b[0;34m,\u001b[0m\u001b[0;34m\u001b[0m\u001b[0;34m\u001b[0m\u001b[0m\n\u001b[1;32m   4573\u001b[0m                 \u001b[0merror_msgs\u001b[0m\u001b[0;34m,\u001b[0m\u001b[0;34m\u001b[0m\u001b[0;34m\u001b[0m\u001b[0m\n\u001b[0;32m-> 4574\u001b[0;31m             \u001b[0;34m)\u001b[0m \u001b[0;34m=\u001b[0m \u001b[0mcls\u001b[0m\u001b[0;34m.\u001b[0m\u001b[0m_load_pretrained_model\u001b[0m\u001b[0;34m(\u001b[0m\u001b[0;34m\u001b[0m\u001b[0;34m\u001b[0m\u001b[0m\n\u001b[0m\u001b[1;32m   4575\u001b[0m                 \u001b[0mmodel\u001b[0m\u001b[0;34m,\u001b[0m\u001b[0;34m\u001b[0m\u001b[0;34m\u001b[0m\u001b[0m\n\u001b[1;32m   4576\u001b[0m                 \u001b[0mstate_dict\u001b[0m\u001b[0;34m,\u001b[0m\u001b[0;34m\u001b[0m\u001b[0;34m\u001b[0m\u001b[0m\n",
            "\u001b[0;32m/usr/local/lib/python3.11/dist-packages/transformers/modeling_utils.py\u001b[0m in \u001b[0;36m_load_pretrained_model\u001b[0;34m(cls, model, state_dict, checkpoint_files, pretrained_model_name_or_path, ignore_mismatched_sizes, sharded_metadata, device_map, disk_offload_folder, offload_state_dict, dtype, hf_quantizer, keep_in_fp32_regex, device_mesh, key_mapping, weights_only)\u001b[0m\n\u001b[1;32m   5029\u001b[0m             \u001b[0;31m# Skip it with fsdp on ranks other than 0\u001b[0m\u001b[0;34m\u001b[0m\u001b[0;34m\u001b[0m\u001b[0m\n\u001b[1;32m   5030\u001b[0m             \u001b[0;32melif\u001b[0m \u001b[0;32mnot\u001b[0m \u001b[0;34m(\u001b[0m\u001b[0mis_fsdp_enabled\u001b[0m\u001b[0;34m(\u001b[0m\u001b[0;34m)\u001b[0m \u001b[0;32mand\u001b[0m \u001b[0;32mnot\u001b[0m \u001b[0mis_local_dist_rank_0\u001b[0m\u001b[0;34m(\u001b[0m\u001b[0;34m)\u001b[0m \u001b[0;32mand\u001b[0m \u001b[0;32mnot\u001b[0m \u001b[0mis_quantized\u001b[0m\u001b[0;34m)\u001b[0m\u001b[0;34m:\u001b[0m\u001b[0;34m\u001b[0m\u001b[0;34m\u001b[0m\u001b[0m\n\u001b[0;32m-> 5031\u001b[0;31m                 disk_offload_index, cpu_offload_index = _load_state_dict_into_meta_model(\n\u001b[0m\u001b[1;32m   5032\u001b[0m                     \u001b[0mmodel_to_load\u001b[0m\u001b[0;34m,\u001b[0m\u001b[0;34m\u001b[0m\u001b[0;34m\u001b[0m\u001b[0m\n\u001b[1;32m   5033\u001b[0m                     \u001b[0mstate_dict\u001b[0m\u001b[0;34m,\u001b[0m\u001b[0;34m\u001b[0m\u001b[0;34m\u001b[0m\u001b[0m\n",
            "\u001b[0;32m/usr/local/lib/python3.11/dist-packages/torch/utils/_contextlib.py\u001b[0m in \u001b[0;36mdecorate_context\u001b[0;34m(*args, **kwargs)\u001b[0m\n\u001b[1;32m    114\u001b[0m     \u001b[0;32mdef\u001b[0m \u001b[0mdecorate_context\u001b[0m\u001b[0;34m(\u001b[0m\u001b[0;34m*\u001b[0m\u001b[0margs\u001b[0m\u001b[0;34m,\u001b[0m \u001b[0;34m**\u001b[0m\u001b[0mkwargs\u001b[0m\u001b[0;34m)\u001b[0m\u001b[0;34m:\u001b[0m\u001b[0;34m\u001b[0m\u001b[0;34m\u001b[0m\u001b[0m\n\u001b[1;32m    115\u001b[0m         \u001b[0;32mwith\u001b[0m \u001b[0mctx_factory\u001b[0m\u001b[0;34m(\u001b[0m\u001b[0;34m)\u001b[0m\u001b[0;34m:\u001b[0m\u001b[0;34m\u001b[0m\u001b[0;34m\u001b[0m\u001b[0m\n\u001b[0;32m--> 116\u001b[0;31m             \u001b[0;32mreturn\u001b[0m \u001b[0mfunc\u001b[0m\u001b[0;34m(\u001b[0m\u001b[0;34m*\u001b[0m\u001b[0margs\u001b[0m\u001b[0;34m,\u001b[0m \u001b[0;34m**\u001b[0m\u001b[0mkwargs\u001b[0m\u001b[0;34m)\u001b[0m\u001b[0;34m\u001b[0m\u001b[0;34m\u001b[0m\u001b[0m\n\u001b[0m\u001b[1;32m    117\u001b[0m \u001b[0;34m\u001b[0m\u001b[0m\n\u001b[1;32m    118\u001b[0m     \u001b[0;32mreturn\u001b[0m \u001b[0mdecorate_context\u001b[0m\u001b[0;34m\u001b[0m\u001b[0;34m\u001b[0m\u001b[0m\n",
            "\u001b[0;32m/usr/local/lib/python3.11/dist-packages/transformers/modeling_utils.py\u001b[0m in \u001b[0;36m_load_state_dict_into_meta_model\u001b[0;34m(model, state_dict, shard_file, expected_keys, reverse_renaming_mapping, device_map, disk_offload_folder, disk_offload_index, cpu_offload_folder, cpu_offload_index, hf_quantizer, is_safetensors, keep_in_fp32_regex, unexpected_keys, device_mesh)\u001b[0m\n\u001b[1;32m    806\u001b[0m             \u001b[0mparam\u001b[0m \u001b[0;34m=\u001b[0m \u001b[0mparam\u001b[0m\u001b[0;34m[\u001b[0m\u001b[0;34m...\u001b[0m\u001b[0;34m]\u001b[0m\u001b[0;34m\u001b[0m\u001b[0;34m\u001b[0m\u001b[0m\n\u001b[1;32m    807\u001b[0m             \u001b[0;32mif\u001b[0m \u001b[0mcasting_dtype\u001b[0m \u001b[0;32mis\u001b[0m \u001b[0;32mnot\u001b[0m \u001b[0;32mNone\u001b[0m\u001b[0;34m:\u001b[0m\u001b[0;34m\u001b[0m\u001b[0;34m\u001b[0m\u001b[0m\n\u001b[0;32m--> 808\u001b[0;31m                 \u001b[0mparam\u001b[0m \u001b[0;34m=\u001b[0m \u001b[0mparam\u001b[0m\u001b[0;34m.\u001b[0m\u001b[0mto\u001b[0m\u001b[0;34m(\u001b[0m\u001b[0mcasting_dtype\u001b[0m\u001b[0;34m)\u001b[0m\u001b[0;34m\u001b[0m\u001b[0;34m\u001b[0m\u001b[0m\n\u001b[0m\u001b[1;32m    809\u001b[0m             \u001b[0;32mif\u001b[0m \u001b[0mto_contiguous\u001b[0m\u001b[0;34m:\u001b[0m\u001b[0;34m\u001b[0m\u001b[0;34m\u001b[0m\u001b[0m\n\u001b[1;32m    810\u001b[0m                 \u001b[0mparam\u001b[0m \u001b[0;34m=\u001b[0m \u001b[0mparam\u001b[0m\u001b[0;34m.\u001b[0m\u001b[0mcontiguous\u001b[0m\u001b[0;34m(\u001b[0m\u001b[0;34m)\u001b[0m\u001b[0;34m\u001b[0m\u001b[0;34m\u001b[0m\u001b[0m\n",
            "\u001b[0;31mKeyboardInterrupt\u001b[0m: "
          ]
        }
      ]
    },
    {
      "cell_type": "code",
      "source": [
        "prompt = \"User: 덥긴한데 벌써부터 에어컨 틀면 전기세가 느무 많이 나오겠제?\\nBot:\"\n",
        "inputs = tokenizer(prompt, return_tensors=\"pt\").to(model.device)"
      ],
      "metadata": {
        "id": "RYVL2CoUrVzy"
      },
      "execution_count": null,
      "outputs": []
    },
    {
      "cell_type": "code",
      "source": [
        "import torch\n",
        "import re\n",
        "with torch.no_grad():\n",
        "    outputs = model.generate(\n",
        "        input_ids=inputs[\"input_ids\"],\n",
        "        attention_mask=inputs[\"attention_mask\"],\n",
        "        max_new_tokens=60,         # 너무 길게 생성 못하도록 제한\n",
        "        min_length=10,\n",
        "        do_sample=True,\n",
        "        top_p=0.9,\n",
        "        temperature=0.8,\n",
        "        eos_token_id=tokenizer.eos_token_id,  # EOS에서 멈춤\n",
        "    )\n",
        "\n",
        "full_text = tokenizer.decode(outputs[0], skip_special_tokens=True)\n",
        "\n",
        "# 프롬프트 이후의 응답만 추출\n",
        "response = full_text[len(prompt):].strip().split(\"\\nUser\")[0].strip()\n",
        "sentences = re.findall(r'[^.!?]*[.!?]', response, re.UNICODE)\n",
        "\n",
        "# 양쪽 공백 제거\n",
        "clean_sentences = [s.strip() for s in sentences]\n",
        "\n",
        "# 완성된 문장들만 출력\n",
        "for sentence in clean_sentences:\n",
        "    print(sentence)"
      ],
      "metadata": {
        "id": "0t2zw5K8rYVV",
        "colab": {
          "base_uri": "https://localhost:8080/"
        },
        "outputId": "fa1964e5-10f1-44b3-b736-066b52baf84e"
      },
      "execution_count": null,
      "outputs": [
        {
          "output_type": "stream",
          "name": "stdout",
          "text": [
            "덥긴 덥지만 전기세가 걱정이신 모양입니더.\n",
            "에어컨을 끄시고 선풍기를 틀어 보이소.\n"
          ]
        }
      ]
    },
    {
      "cell_type": "code",
      "source": [
        "!pip install gTTS"
      ],
      "metadata": {
        "colab": {
          "base_uri": "https://localhost:8080/"
        },
        "id": "FJCYs8eqZwIP",
        "outputId": "c7dc6c6f-d2bf-46ef-bdc4-e4c5d9b2cbb1"
      },
      "execution_count": null,
      "outputs": [
        {
          "output_type": "stream",
          "name": "stdout",
          "text": [
            "Collecting gTTS\n",
            "  Downloading gTTS-2.5.4-py3-none-any.whl.metadata (4.1 kB)\n",
            "Requirement already satisfied: requests<3,>=2.27 in /usr/local/lib/python3.11/dist-packages (from gTTS) (2.32.3)\n",
            "Collecting click<8.2,>=7.1 (from gTTS)\n",
            "  Downloading click-8.1.8-py3-none-any.whl.metadata (2.3 kB)\n",
            "Requirement already satisfied: charset-normalizer<4,>=2 in /usr/local/lib/python3.11/dist-packages (from requests<3,>=2.27->gTTS) (3.4.2)\n",
            "Requirement already satisfied: idna<4,>=2.5 in /usr/local/lib/python3.11/dist-packages (from requests<3,>=2.27->gTTS) (3.10)\n",
            "Requirement already satisfied: urllib3<3,>=1.21.1 in /usr/local/lib/python3.11/dist-packages (from requests<3,>=2.27->gTTS) (2.4.0)\n",
            "Requirement already satisfied: certifi>=2017.4.17 in /usr/local/lib/python3.11/dist-packages (from requests<3,>=2.27->gTTS) (2025.4.26)\n",
            "Downloading gTTS-2.5.4-py3-none-any.whl (29 kB)\n",
            "Downloading click-8.1.8-py3-none-any.whl (98 kB)\n",
            "\u001b[?25l   \u001b[90m━━━━━━━━━━━━━━━━━━━━━━━━━━━━━━━━━━━━━━━━\u001b[0m \u001b[32m0.0/98.2 kB\u001b[0m \u001b[31m?\u001b[0m eta \u001b[36m-:--:--\u001b[0m\r\u001b[2K   \u001b[90m━━━━━━━━━━━━━━━━━━━━━━━━━━━━━━━━━━━━━━━━\u001b[0m \u001b[32m98.2/98.2 kB\u001b[0m \u001b[31m9.4 MB/s\u001b[0m eta \u001b[36m0:00:00\u001b[0m\n",
            "\u001b[?25hInstalling collected packages: click, gTTS\n",
            "  Attempting uninstall: click\n",
            "    Found existing installation: click 8.2.1\n",
            "    Uninstalling click-8.2.1:\n",
            "      Successfully uninstalled click-8.2.1\n",
            "Successfully installed click-8.1.8 gTTS-2.5.4\n"
          ]
        }
      ]
    },
    {
      "cell_type": "code",
      "source": [
        "from gtts import gTTS\n",
        "from IPython.display import Audio\n",
        "\n",
        "if clean_sentences:\n",
        "    tts = gTTS(text=response, lang='ko')\n",
        "    tts.save(\"output.mp3\")\n",
        "    display(Audio(\"output.mp3\", autoplay=True))\n",
        "else:\n",
        "    print(\"생성된 문장이 없습니다.\")"
      ],
      "metadata": {
        "colab": {
          "base_uri": "https://localhost:8080/",
          "height": 74
        },
        "id": "6O9F3Oz8ZVBo",
        "outputId": "ce48049a-6e82-4da5-a858-faa74594f8a3"
      },
      "execution_count": null,
      "outputs": [
        {
          "output_type": "display_data",
          "data": {
            "text/plain": [
              "<IPython.lib.display.Audio object>"
            ],
            "text/html": [
              "\n",
              "                <audio  controls=\"controls\" autoplay=\"autoplay\">\n",
              "                    <source src=\"data:audio/mpeg;base64,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\" type=\"audio/mpeg\" />\n",
              "                    Your browser does not support the audio element.\n",
              "                </audio>\n",
              "              "
            ]
          },
          "metadata": {}
        }
      ]
    },
    {
      "cell_type": "markdown",
      "source": [],
      "metadata": {
        "id": "7r1dmjQjIanf"
      }
    }
  ]
}